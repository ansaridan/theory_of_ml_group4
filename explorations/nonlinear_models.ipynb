{
 "cells": [
  {
   "cell_type": "markdown",
   "id": "f8cd562fb15b762",
   "metadata": {},
   "source": [
    "# **Nonlinear Model Testing**\n",
    "This notebook tests several nonlinear models."
   ]
  },
  {
   "cell_type": "code",
   "execution_count": 3,
   "id": "initial_id",
   "metadata": {
    "collapsed": true
   },
   "outputs": [],
   "source": [
    "# Change CWD to repo base for imports\n",
    "import os\n",
    "from pathlib import Path\n",
    "\n",
    "notebook_path = Path().resolve()\n",
    "parent_directory = notebook_path.parent\n",
    "if notebook_path.cwd().__str__().split(\"/\")[-1] != \"theory_of_ml_group4\":\n",
    "    os.chdir(parent_directory)\n",
    "\n",
    "# library imports\n",
    "from etl import get_flight_data\n",
    "from models import FlightPerformanceModel\n",
    "import constants as c\n",
    "# computation\n",
    "import numpy as np\n",
    "# model utilities\n",
    "from sklearn.model_selection import train_test_split\n",
    "from sklearn.metrics import accuracy_score, roc_auc_score\n",
    "# models\n",
    "from sklearn.linear_model import ElasticNet\n",
    "from sklearn.naive_bayes import GaussianNB\n",
    "from sklearn.svm import LinearSVR\n",
    "from sklearn.discriminant_analysis import QuadraticDiscriminantAnalysis\n",
    "from sklearn.ensemble import RandomForestClassifier, RandomForestRegressor\n",
    "from sklearn.ensemble import BaggingClassifier, BaggingRegressor\n",
    "from sklearn.ensemble import HistGradientBoostingClassifier, HistGradientBoostingRegressor\n",
    "from xgboost import XGBClassifier, XGBRegressor\n",
    "from catboost import CatBoostClassifier, CatBoostRegressor\n",
    "\n",
    "import logging\n",
    "\n",
    "log = logging.getLogger(\"modeling\")\n",
    "log.setLevel(logging.INFO)"
   ]
  },
  {
   "cell_type": "code",
   "execution_count": 4,
   "id": "328552b264033f1",
   "metadata": {},
   "outputs": [
    {
     "name": "stderr",
     "output_type": "stream",
     "text": [
      "reading data/202312_flights.csv\n",
      "reading data/202307_flights.csv\n",
      "reading data/202402_flights.csv\n",
      "reading data/202209_flights.csv\n",
      "reading data/202302_flights.csv\n",
      "reading data/202210_flights.csv\n",
      "reading data/202308_flights.csv\n",
      "reading data/202404_flights.csv\n",
      "reading data/202301_flights.csv\n",
      "skipped data/state_region_map.csv\n",
      "reading data/202401_flights.csv\n",
      "reading data/202304_flights.csv\n",
      "reading data/202311_flights.csv\n",
      "reading data/202406_flights.csv\n",
      "reading data/202211_flights.csv\n",
      "reading data/202303_flights.csv\n",
      "reading data/202208_flights.csv\n",
      "reading data/202403_flights.csv\n",
      "reading data/202306_flights.csv\n",
      "skipped data/airport_id_map.csv\n",
      "reading data/202310_flights.csv\n",
      "reading data/202305_flights.csv\n",
      "reading data/202212_flights.csv\n",
      "skipped data/airline_codes_map.csv\n",
      "reading data/202405_flights.csv\n",
      "reading data/202309_flights.csv\n",
      "reading data/202207_flights.csv\n"
     ]
    }
   ],
   "source": [
    "df = get_flight_data(sample_frac=0.50)\n",
    "df_train, df_test = train_test_split(df, test_size=0.1, random_state=42)"
   ]
  },
  {
   "cell_type": "code",
   "execution_count": 5,
   "id": "b720938afa6e9af4",
   "metadata": {},
   "outputs": [],
   "source": [
    "def compute_classifier_metrics(model, targets, name):\n",
    "    \"\"\"Compute accuracy and AUC for a binary classifier model\"\"\"\n",
    "    y_pred = model.predict(df_test, targets)\n",
    "    accuracy = accuracy_score(df_test[targets].fillna(0), y_pred)\n",
    "    print(f\"{name} accuracy for {targets}: {accuracy:.4f} vs. 0.50 baseline\")\n",
    "    y_pred_proba = model.predict_proba(df_test, targets)\n",
    "    auc = roc_auc_score(df_test[targets].fillna(0), y_pred_proba)\n",
    "    print(f\"{name} AUC for {targets}: {auc:.4f} vs. 0.50 baseline\")\n",
    "\n",
    "\n",
    "def compute_regression_metrics(model, name):\n",
    "    \"\"\"Compute RMSE for a regression model\"\"\"\n",
    "    y_pred_delay_duration = model.predict(df_test.loc[(df_test[c.DELAYED_COL] == 1.0).values],\n",
    "                                          target_col=c.DELAY_DURATION_COL)\n",
    "    model_rmse = np.sqrt(\n",
    "        np.mean((df_test.loc[df_test[c.DELAYED_COL] == 1.0][c.DELAY_DURATION_COL] - y_pred_delay_duration) ** 2))\n",
    "    baseline_rmse = np.sqrt(np.mean(df_test.loc[df_test[c.DELAYED_COL] == 1.0][c.DELAY_DURATION_COL] ** 2))\n",
    "    print(f\"{name} RMSE for {c.DELAY_DURATION_COL}: {model_rmse:.4f} vs. {baseline_rmse:.4f} baseline\")"
   ]
  },
  {
   "cell_type": "markdown",
   "id": "a79281a28255982",
   "metadata": {},
   "source": [
    "## ElasticNet and Naive Bayes"
   ]
  },
  {
   "cell_type": "code",
   "execution_count": 6,
   "id": "7f5a4dff072143fa",
   "metadata": {},
   "outputs": [
    {
     "name": "stderr",
     "output_type": "stream",
     "text": [
      "Number of train rows with NaN: 0\n",
      "13:50:12:Training model for target Cancelled\n",
      "13:50:15:Model for target Cancelled trained.\n",
      "13:50:15:Training model for target ArrDel15\n",
      "13:50:17:Model for target ArrDel15 trained.\n",
      "13:50:17:Training model for target ArrDelay\n",
      "13:50:18:Model for target ArrDelay trained.\n"
     ]
    }
   ],
   "source": [
    "bayes_elastic_model = FlightPerformanceModel(\n",
    "    targets={\n",
    "        c.CANCELLED_COL: {\n",
    "            \"type\": \"classification\",\n",
    "            \"estimator\": GaussianNB,\n",
    "            \"params\": {}\n",
    "        },\n",
    "        c.DELAYED_COL: {\n",
    "            \"type\": \"classification\",\n",
    "            \"estimator\": GaussianNB,\n",
    "            \"params\": {}\n",
    "        },\n",
    "        c.DELAY_DURATION_COL: {\n",
    "            \"type\": \"regression\",\n",
    "            \"estimator\": ElasticNet,\n",
    "            \"params\": {}\n",
    "        },\n",
    "    },\n",
    ")\n",
    "bayes_elastic_model.fit(df_train.sample(frac=0.5, random_state=42))"
   ]
  },
  {
   "cell_type": "code",
   "execution_count": 7,
   "id": "3bd069f155ebaf7",
   "metadata": {},
   "outputs": [
    {
     "name": "stdout",
     "output_type": "stream",
     "text": [
      "Naive Bayes accuracy for Cancelled: 0.7819 vs. 0.50 baseline\n",
      "Naive Bayes AUC for Cancelled: 0.6561 vs. 0.50 baseline\n",
      "Naive Bayes accuracy for ArrDel15: 0.6433 vs. 0.50 baseline\n",
      "Naive Bayes AUC for ArrDel15: 0.6374 vs. 0.50 baseline\n",
      "ElasticNet RMSE for ArrDelay: 98.5162 vs. 121.0417 baseline\n"
     ]
    }
   ],
   "source": [
    "for target_col in [c.CANCELLED_COL, c.DELAYED_COL]:\n",
    "    compute_classifier_metrics(bayes_elastic_model, target_col, \"Naive Bayes\")\n",
    "compute_regression_metrics(bayes_elastic_model, \"ElasticNet\")"
   ]
  },
  {
   "cell_type": "markdown",
   "id": "62ad3832",
   "metadata": {},
   "source": [
    "## Linear SVM and QDA"
   ]
  },
  {
   "cell_type": "code",
   "execution_count": 8,
   "id": "b271ffdf",
   "metadata": {},
   "outputs": [
    {
     "name": "stderr",
     "output_type": "stream",
     "text": [
      "Number of train rows with NaN: 0\n",
      "13:50:42:Training model for target Cancelled\n",
      "/opt/homebrew/Caskroom/miniforge/base/envs/theory_of_ml/lib/python3.12/site-packages/sklearn/discriminant_analysis.py:947: UserWarning: Variables are collinear\n",
      "  warnings.warn(\"Variables are collinear\")\n",
      "13:50:54:Model for target Cancelled trained.\n",
      "13:50:54:Training model for target ArrDel15\n",
      "/opt/homebrew/Caskroom/miniforge/base/envs/theory_of_ml/lib/python3.12/site-packages/sklearn/discriminant_analysis.py:947: UserWarning: Variables are collinear\n",
      "  warnings.warn(\"Variables are collinear\")\n",
      "13:51:04:Model for target ArrDel15 trained.\n",
      "13:51:04:Training model for target ArrDelay\n",
      "13:52:21:Model for target ArrDelay trained.\n"
     ]
    }
   ],
   "source": [
    "svm_qda_model = FlightPerformanceModel(\n",
    "    targets={\n",
    "        c.CANCELLED_COL: {\n",
    "            \"type\": \"classification\",\n",
    "            \"estimator\": QuadraticDiscriminantAnalysis,\n",
    "            \"params\": {}\n",
    "        },\n",
    "        c.DELAYED_COL: {\n",
    "            \"type\": \"classification\",\n",
    "            \"estimator\": QuadraticDiscriminantAnalysis,\n",
    "            \"params\": {}\n",
    "        },\n",
    "        c.DELAY_DURATION_COL: {\n",
    "            \"type\": \"regression\",\n",
    "            \"estimator\": LinearSVR,\n",
    "            \"params\": {\"random_state\": 42}\n",
    "        },\n",
    "    },\n",
    ")\n",
    "svm_qda_model.fit(df_train.sample(frac=0.5, random_state=42))"
   ]
  },
  {
   "cell_type": "code",
   "execution_count": 9,
   "id": "8e26ffbc",
   "metadata": {},
   "outputs": [
    {
     "name": "stdout",
     "output_type": "stream",
     "text": [
      "QDA accuracy for Cancelled: 0.0238 vs. 0.50 baseline\n",
      "QDA AUC for Cancelled: 0.6674 vs. 0.50 baseline\n",
      "QDA accuracy for ArrDel15: 0.2839 vs. 0.50 baseline\n",
      "QDA AUC for ArrDel15: 0.6325 vs. 0.50 baseline\n",
      "Linear SVM RMSE for ArrDelay: 102.7525 vs. 121.0417 baseline\n"
     ]
    }
   ],
   "source": [
    "for target_col in [c.CANCELLED_COL, c.DELAYED_COL]:\n",
    "    compute_classifier_metrics(svm_qda_model, target_col, \"QDA\")\n",
    "compute_regression_metrics(svm_qda_model, \"Linear SVM\")"
   ]
  },
  {
   "cell_type": "markdown",
   "id": "bfa17168dc7e1a89",
   "metadata": {},
   "source": [
    "## Random Forest"
   ]
  },
  {
   "cell_type": "code",
   "execution_count": 10,
   "id": "f64732b789087222",
   "metadata": {},
   "outputs": [
    {
     "name": "stderr",
     "output_type": "stream",
     "text": [
      "Number of train rows with NaN: 0\n",
      "13:52:47:Training model for target Cancelled\n",
      "13:53:57:Model for target Cancelled trained.\n",
      "13:53:57:Training model for target ArrDel15\n",
      "13:55:15:Model for target ArrDel15 trained.\n",
      "13:55:15:Training model for target ArrDelay\n",
      "13:56:30:Model for target ArrDelay trained.\n"
     ]
    }
   ],
   "source": [
    "# Uses 100 trees\n",
    "rf_model = FlightPerformanceModel(\n",
    "    targets={\n",
    "        c.CANCELLED_COL: {\n",
    "            \"type\": \"classification\",\n",
    "            \"estimator\": RandomForestClassifier,\n",
    "            \"params\": {\"n_jobs\": -1, \"random_state\": 42}\n",
    "        },\n",
    "        c.DELAYED_COL: {\n",
    "            \"type\": \"classification\",\n",
    "            \"estimator\": RandomForestClassifier,\n",
    "            \"params\": {\"n_jobs\": -1, \"random_state\": 42}\n",
    "        },\n",
    "        c.DELAY_DURATION_COL: {\n",
    "            \"type\": \"regression\",\n",
    "            \"estimator\": RandomForestRegressor,\n",
    "            \"params\": {\"n_jobs\": -1, \"random_state\": 42}\n",
    "        },\n",
    "    },\n",
    ")\n",
    "rf_model.fit(df_train.sample(frac=0.5, random_state=42))"
   ]
  },
  {
   "cell_type": "code",
   "execution_count": 11,
   "id": "b54e0ebd323163e8",
   "metadata": {},
   "outputs": [
    {
     "name": "stdout",
     "output_type": "stream",
     "text": [
      "Random Forest accuracy for Cancelled: 0.9790 vs. 0.50 baseline\n",
      "Random Forest AUC for Cancelled: 0.6888 vs. 0.50 baseline\n",
      "Random Forest accuracy for ArrDel15: 0.7441 vs. 0.50 baseline\n",
      "Random Forest AUC for ArrDel15: 0.6196 vs. 0.50 baseline\n",
      "Random Forest RMSE for ArrDelay: 105.0163 vs. 121.0417 baseline\n"
     ]
    }
   ],
   "source": [
    "for target_col in [c.CANCELLED_COL, c.DELAYED_COL]:\n",
    "    compute_classifier_metrics(rf_model, target_col, \"Random Forest\")\n",
    "compute_regression_metrics(rf_model, \"Random Forest\")"
   ]
  },
  {
   "cell_type": "markdown",
   "id": "655950c6eaac0fbc",
   "metadata": {},
   "source": [
    "## Bagging"
   ]
  },
  {
   "cell_type": "code",
   "execution_count": 12,
   "id": "38547d4b58036f95",
   "metadata": {},
   "outputs": [
    {
     "name": "stderr",
     "output_type": "stream",
     "text": [
      "Number of train rows with NaN: 0\n",
      "13:57:14:Training model for target Cancelled\n",
      "13:58:24:Model for target Cancelled trained.\n",
      "13:58:24:Training model for target ArrDel15\n",
      "13:59:28:Model for target ArrDel15 trained.\n",
      "13:59:28:Training model for target ArrDelay\n",
      "13:59:38:Model for target ArrDelay trained.\n"
     ]
    }
   ],
   "source": [
    "# Uses 10 trees\n",
    "bagging_model = FlightPerformanceModel(\n",
    "    targets={\n",
    "        c.CANCELLED_COL: {\n",
    "            \"type\": \"classification\",\n",
    "            \"estimator\": BaggingClassifier,\n",
    "            \"params\": {\"n_jobs\": -1, \"random_state\": 42}\n",
    "        },\n",
    "        c.DELAYED_COL: {\n",
    "            \"type\": \"classification\",\n",
    "            \"estimator\": BaggingClassifier,\n",
    "            \"params\": {\"n_jobs\": -1, \"random_state\": 42}\n",
    "        },\n",
    "        c.DELAY_DURATION_COL: {\n",
    "            \"type\": \"regression\",\n",
    "            \"estimator\": BaggingRegressor,\n",
    "            \"params\": {\"n_jobs\": -1, \"random_state\": 42}\n",
    "        },\n",
    "    },\n",
    ")\n",
    "bagging_model.fit(df_train.sample(frac=0.5, random_state=42))"
   ]
  },
  {
   "cell_type": "code",
   "execution_count": 13,
   "id": "35fc746d726ae784",
   "metadata": {},
   "outputs": [
    {
     "name": "stdout",
     "output_type": "stream",
     "text": [
      "Bagging accuracy for Cancelled: 0.9788 vs. 0.50 baseline\n",
      "Bagging AUC for Cancelled: 0.6013 vs. 0.50 baseline\n",
      "Bagging accuracy for ArrDel15: 0.7448 vs. 0.50 baseline\n",
      "Bagging AUC for ArrDel15: 0.6064 vs. 0.50 baseline\n",
      "Bagging RMSE for ArrDelay: 108.5995 vs. 121.0417 baseline\n"
     ]
    }
   ],
   "source": [
    "for target_col in [c.CANCELLED_COL, c.DELAYED_COL]:\n",
    "    compute_classifier_metrics(bagging_model, target_col, \"Bagging\")\n",
    "compute_regression_metrics(bagging_model, \"Bagging\")"
   ]
  },
  {
   "cell_type": "markdown",
   "id": "83b0932fb946343d",
   "metadata": {},
   "source": [
    "## Histogram Based Gradient Boosting"
   ]
  },
  {
   "cell_type": "code",
   "execution_count": 14,
   "id": "142f2daf31a3bf5f",
   "metadata": {},
   "outputs": [
    {
     "name": "stderr",
     "output_type": "stream",
     "text": [
      "Number of train rows with NaN: 0\n",
      "14:00:12:Training model for target Cancelled\n",
      "14:00:38:Model for target Cancelled trained.\n",
      "14:00:38:Training model for target ArrDel15\n",
      "14:01:08:Model for target ArrDel15 trained.\n",
      "14:01:08:Training model for target ArrDelay\n",
      "14:01:16:Model for target ArrDelay trained.\n"
     ]
    }
   ],
   "source": [
    "boost_model = FlightPerformanceModel(\n",
    "    targets={\n",
    "        c.CANCELLED_COL: {\n",
    "            \"type\": \"classification\",\n",
    "            \"estimator\": HistGradientBoostingClassifier,\n",
    "            \"params\": {\"random_state\": 42}\n",
    "        },\n",
    "        c.DELAYED_COL: {\n",
    "            \"type\": \"classification\",\n",
    "            \"estimator\": HistGradientBoostingClassifier,\n",
    "            \"params\": {\"random_state\": 42}\n",
    "        },\n",
    "        c.DELAY_DURATION_COL: {\n",
    "            \"type\": \"regression\",\n",
    "            \"estimator\": HistGradientBoostingRegressor,\n",
    "            \"params\": {\"random_state\": 42}\n",
    "        },\n",
    "    },\n",
    ")\n",
    "boost_model.fit(df_train.sample(frac=0.5, random_state=42))"
   ]
  },
  {
   "cell_type": "code",
   "execution_count": 15,
   "id": "5ceec66fc2041674",
   "metadata": {},
   "outputs": [
    {
     "name": "stdout",
     "output_type": "stream",
     "text": [
      "Histogram Gradient Boosting accuracy for Cancelled: 0.9846 vs. 0.50 baseline\n",
      "Histogram Gradient Boosting AUC for Cancelled: 0.7678 vs. 0.50 baseline\n",
      "Histogram Gradient Boosting accuracy for ArrDel15: 0.7946 vs. 0.50 baseline\n",
      "Histogram Gradient Boosting AUC for ArrDel15: 0.6724 vs. 0.50 baseline\n",
      "Histogram Gradient Boosting RMSE for ArrDelay: 97.9788 vs. 121.0417 baseline\n"
     ]
    }
   ],
   "source": [
    "for target_col in [c.CANCELLED_COL, c.DELAYED_COL]:\n",
    "    compute_classifier_metrics(boost_model, target_col, \"Histogram Gradient Boosting\")\n",
    "compute_regression_metrics(boost_model, \"Histogram Gradient Boosting\")"
   ]
  },
  {
   "cell_type": "markdown",
   "id": "f839e26c049a9949",
   "metadata": {},
   "source": [
    "## XGBoost"
   ]
  },
  {
   "cell_type": "code",
   "execution_count": 16,
   "id": "90b6b167b12e3957",
   "metadata": {},
   "outputs": [
    {
     "name": "stderr",
     "output_type": "stream",
     "text": [
      "Number of train rows with NaN: 0\n",
      "14:01:43:Training model for target Cancelled\n",
      "14:01:49:Model for target Cancelled trained.\n",
      "14:01:49:Training model for target ArrDel15\n",
      "14:01:55:Model for target ArrDel15 trained.\n",
      "14:01:55:Training model for target ArrDelay\n",
      "14:01:57:Model for target ArrDelay trained.\n"
     ]
    }
   ],
   "source": [
    "# Uses 100 trees\n",
    "xgboost_model = FlightPerformanceModel(\n",
    "    targets={\n",
    "        c.CANCELLED_COL: {\n",
    "            \"type\": \"classification\",\n",
    "            \"estimator\": XGBClassifier,\n",
    "            \"params\": {\"random_state\": 42}\n",
    "        },\n",
    "        c.DELAYED_COL: {\n",
    "            \"type\": \"classification\",\n",
    "            \"estimator\": XGBClassifier,\n",
    "            \"params\": {\"random_state\": 42}\n",
    "        },\n",
    "        c.DELAY_DURATION_COL: {\n",
    "            \"type\": \"regression\",\n",
    "            \"estimator\": XGBRegressor,\n",
    "            \"params\": {\"random_state\": 42}\n",
    "        },\n",
    "    },\n",
    ")\n",
    "xgboost_model.fit(df_train.sample(frac=0.5, random_state=42))"
   ]
  },
  {
   "cell_type": "code",
   "execution_count": 17,
   "id": "225193e018941e79",
   "metadata": {},
   "outputs": [
    {
     "name": "stdout",
     "output_type": "stream",
     "text": [
      "XGBoost accuracy for Cancelled: 0.9846 vs. 0.50 baseline\n",
      "XGBoost AUC for Cancelled: 0.7893 vs. 0.50 baseline\n",
      "XGBoost accuracy for ArrDel15: 0.7951 vs. 0.50 baseline\n",
      "XGBoost AUC for ArrDel15: 0.6800 vs. 0.50 baseline\n",
      "XGBoost RMSE for ArrDelay: 97.9958 vs. 121.0417 baseline\n"
     ]
    }
   ],
   "source": [
    "for target_col in [c.CANCELLED_COL, c.DELAYED_COL]:\n",
    "    compute_classifier_metrics(xgboost_model, target_col, \"XGBoost\")\n",
    "compute_regression_metrics(xgboost_model, \"XGBoost\")"
   ]
  },
  {
   "cell_type": "markdown",
   "id": "99dcd69ec4aae14",
   "metadata": {},
   "source": [
    "## XGBoost with 1000 trees on larger training set"
   ]
  },
  {
   "cell_type": "code",
   "execution_count": 18,
   "id": "775556c25c02405a",
   "metadata": {},
   "outputs": [
    {
     "name": "stderr",
     "output_type": "stream",
     "text": [
      "Number of train rows with NaN: 1\n",
      "14:02:38:Training model for target Cancelled\n",
      "14:04:09:Model for target Cancelled trained.\n",
      "14:04:09:Training model for target ArrDel15\n",
      "14:05:42:Model for target ArrDel15 trained.\n",
      "14:05:42:Training model for target ArrDelay\n",
      "14:06:03:Model for target ArrDelay trained.\n"
     ]
    }
   ],
   "source": [
    "# Uses 1000 trees\n",
    "full_xgboost_model = FlightPerformanceModel(\n",
    "    targets={\n",
    "        c.CANCELLED_COL: {\n",
    "            \"type\": \"classification\",\n",
    "            \"estimator\": XGBClassifier,\n",
    "            \"params\": {\"n_estimators\": 1000, \"random_state\": 42}\n",
    "        },\n",
    "        c.DELAYED_COL: {\n",
    "            \"type\": \"classification\",\n",
    "            \"estimator\": XGBClassifier,\n",
    "            \"params\": {\"n_estimators\": 1000, \"random_state\": 42}\n",
    "        },\n",
    "        c.DELAY_DURATION_COL: {\n",
    "            \"type\": \"regression\",\n",
    "            \"estimator\": XGBRegressor,\n",
    "            \"params\": {\"n_estimators\": 1000, \"random_state\": 42}\n",
    "        },\n",
    "    },\n",
    ")\n",
    "full_xgboost_model.fit(df_train)"
   ]
  },
  {
   "cell_type": "code",
   "execution_count": 19,
   "id": "e7789690781013c8",
   "metadata": {},
   "outputs": [
    {
     "name": "stdout",
     "output_type": "stream",
     "text": [
      "Full XGBoost accuracy for Cancelled: 0.9846 vs. 0.50 baseline\n",
      "Full XGBoost AUC for Cancelled: 0.8163 vs. 0.50 baseline\n",
      "Full XGBoost accuracy for ArrDel15: 0.7967 vs. 0.50 baseline\n",
      "Full XGBoost AUC for ArrDel15: 0.6957 vs. 0.50 baseline\n",
      "Full XGBoost RMSE for ArrDelay: 99.2239 vs. 121.0417 baseline\n"
     ]
    }
   ],
   "source": [
    "for target_col in [c.CANCELLED_COL, c.DELAYED_COL]:\n",
    "    compute_classifier_metrics(full_xgboost_model, target_col, \"Full XGBoost\")\n",
    "compute_regression_metrics(full_xgboost_model, \"Full XGBoost\")"
   ]
  },
  {
   "cell_type": "markdown",
   "id": "52383eb2fcb9dff5",
   "metadata": {},
   "source": [
    "## CatBoost"
   ]
  },
  {
   "cell_type": "code",
   "execution_count": 20,
   "id": "17df0fa2d5ee7ce0",
   "metadata": {},
   "outputs": [
    {
     "name": "stderr",
     "output_type": "stream",
     "text": [
      "Number of train rows with NaN: 0\n",
      "14:06:29:Training model for target Cancelled\n",
      "14:08:48:Model for target Cancelled trained.\n",
      "14:08:48:Training model for target ArrDel15\n",
      "14:11:06:Model for target ArrDel15 trained.\n",
      "14:11:06:Training model for target ArrDelay\n",
      "14:11:29:Model for target ArrDelay trained.\n"
     ]
    }
   ],
   "source": [
    "catboost_model = FlightPerformanceModel(\n",
    "    targets={\n",
    "        c.CANCELLED_COL: {\n",
    "            \"type\": \"classification\",\n",
    "            \"estimator\": CatBoostClassifier,\n",
    "            \"params\": {\"random_state\": 42, \"verbose\": False}\n",
    "        },\n",
    "        c.DELAYED_COL: {\n",
    "            \"type\": \"classification\",\n",
    "            \"estimator\": CatBoostClassifier,\n",
    "            \"params\": {\"random_state\": 42, \"verbose\": False}\n",
    "        },\n",
    "        c.DELAY_DURATION_COL: {\n",
    "            \"type\": \"regression\",\n",
    "            \"estimator\": CatBoostRegressor,\n",
    "            \"params\": {\"random_state\": 42, \"verbose\": False}\n",
    "        },\n",
    "    },\n",
    ")\n",
    "catboost_model.fit(df_train.sample(frac=0.5, random_state=42))"
   ]
  },
  {
   "cell_type": "code",
   "execution_count": 21,
   "id": "e6a53cc292ebce68",
   "metadata": {},
   "outputs": [
    {
     "name": "stdout",
     "output_type": "stream",
     "text": [
      "CatBoost accuracy for Cancelled: 0.9846 vs. 0.50 baseline\n",
      "CatBoost AUC for Cancelled: 0.8008 vs. 0.50 baseline\n",
      "CatBoost accuracy for ArrDel15: 0.7961 vs. 0.50 baseline\n",
      "CatBoost AUC for ArrDel15: 0.6880 vs. 0.50 baseline\n",
      "CatBoost RMSE for ArrDelay: 97.9784 vs. 121.0417 baseline\n"
     ]
    }
   ],
   "source": [
    "for target_col in [c.CANCELLED_COL, c.DELAYED_COL]:\n",
    "    compute_classifier_metrics(catboost_model, target_col, \"CatBoost\")\n",
    "compute_regression_metrics(catboost_model, \"CatBoost\")"
   ]
  },
  {
   "cell_type": "markdown",
   "id": "905ba1acfa1af004",
   "metadata": {},
   "source": [
    "## CatBoost on larger training set"
   ]
  },
  {
   "cell_type": "code",
   "execution_count": 22,
   "id": "eda7203ff7bc558b",
   "metadata": {},
   "outputs": [
    {
     "name": "stderr",
     "output_type": "stream",
     "text": [
      "Number of train rows with NaN: 1\n",
      "14:13:10:Training model for target Cancelled\n",
      "14:17:44:Model for target Cancelled trained.\n",
      "14:17:44:Training model for target ArrDel15\n",
      "14:22:08:Model for target ArrDel15 trained.\n",
      "14:22:08:Training model for target ArrDelay\n",
      "14:22:52:Model for target ArrDelay trained.\n"
     ]
    }
   ],
   "source": [
    "full_catboost_model = FlightPerformanceModel(\n",
    "    targets={\n",
    "        c.CANCELLED_COL: {\n",
    "            \"type\": \"classification\",\n",
    "            \"estimator\": CatBoostClassifier,\n",
    "            \"params\": {\"random_state\": 42, \"verbose\": False}\n",
    "        },\n",
    "        c.DELAYED_COL: {\n",
    "            \"type\": \"classification\",\n",
    "            \"estimator\": CatBoostClassifier,\n",
    "            \"params\": {\"random_state\": 42, \"verbose\": False}\n",
    "        },\n",
    "        c.DELAY_DURATION_COL: {\n",
    "            \"type\": \"regression\",\n",
    "            \"estimator\": CatBoostRegressor,\n",
    "            \"params\": {\"random_state\": 42, \"verbose\": False}\n",
    "        },\n",
    "    },\n",
    ")\n",
    "full_catboost_model.fit(df_train)"
   ]
  },
  {
   "cell_type": "code",
   "execution_count": 23,
   "id": "1ce88af89a070ed2",
   "metadata": {},
   "outputs": [
    {
     "name": "stdout",
     "output_type": "stream",
     "text": [
      "Full CatBoost accuracy for Cancelled: 0.9846 vs. 0.50 baseline\n",
      "Full CatBoost AUC for Cancelled: 0.8108 vs. 0.50 baseline\n",
      "Full CatBoost accuracy for ArrDel15: 0.7963 vs. 0.50 baseline\n",
      "Full CatBoost AUC for ArrDel15: 0.6911 vs. 0.50 baseline\n",
      "Full CatBoost RMSE for ArrDelay: 97.7653 vs. 121.0417 baseline\n"
     ]
    }
   ],
   "source": [
    "for target_col in [c.CANCELLED_COL, c.DELAYED_COL]:\n",
    "    compute_classifier_metrics(full_catboost_model, target_col, \"Full CatBoost\")\n",
    "compute_regression_metrics(full_catboost_model, \"Full CatBoost\")"
   ]
  }
 ],
 "metadata": {
  "kernelspec": {
   "display_name": "theory_of_ml",
   "language": "python",
   "name": "python3"
  },
  "language_info": {
   "codemirror_mode": {
    "name": "ipython",
    "version": 3
   },
   "file_extension": ".py",
   "mimetype": "text/x-python",
   "name": "python",
   "nbconvert_exporter": "python",
   "pygments_lexer": "ipython3",
   "version": "3.12.4"
  }
 },
 "nbformat": 4,
 "nbformat_minor": 5
}
