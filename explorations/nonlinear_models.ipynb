{
 "cells": [
  {
   "metadata": {},
   "cell_type": "markdown",
   "source": [
    "# **Nonlinear Model Testing**\n",
    "This notebook tests several nonlinear models."
   ],
   "id": "f8cd562fb15b762"
  },
  {
   "cell_type": "code",
   "id": "initial_id",
   "metadata": {
    "collapsed": true
   },
   "source": [
    "# Change CWD to repo base for imports\n",
    "import os\n",
    "from pathlib import Path\n",
    "\n",
    "notebook_path = Path().resolve()\n",
    "parent_directory = notebook_path.parent\n",
    "if notebook_path.cwd().__str__().split(\"/\")[-1] != \"theory_of_ml_group4\":\n",
    "    os.chdir(parent_directory)\n",
    "\n",
    "# library imports\n",
    "from etl import get_flight_data\n",
    "from models import FlightPerformanceModel\n",
    "import constants as c\n",
    "# computation\n",
    "import numpy as np\n",
    "# model utilities\n",
    "from sklearn.model_selection import train_test_split\n",
    "from sklearn.metrics import accuracy_score, roc_auc_score\n",
    "# models\n",
    "from sklearn.linear_model import ElasticNet\n",
    "from sklearn.naive_bayes import GaussianNB\n",
    "from sklearn.ensemble import RandomForestClassifier, RandomForestRegressor\n",
    "from sklearn.ensemble import BaggingClassifier, BaggingRegressor\n",
    "from sklearn.ensemble import HistGradientBoostingClassifier, HistGradientBoostingRegressor\n",
    "from xgboost import XGBClassifier, XGBRegressor\n",
    "from catboost import CatBoostClassifier, CatBoostRegressor\n",
    "\n",
    "import logging\n",
    "\n",
    "log = logging.getLogger(\"modeling\")\n",
    "log.setLevel(logging.INFO)"
   ],
   "outputs": [],
   "execution_count": null
  },
  {
   "metadata": {},
   "cell_type": "code",
   "source": [
    "df = get_flight_data()\n",
    "df_train, df_test = train_test_split(df, test_size=0.1, random_state=42)"
   ],
   "id": "328552b264033f1",
   "outputs": [],
   "execution_count": null
  },
  {
   "metadata": {},
   "cell_type": "code",
   "source": [
    "def compute_classifier_metrics(model, targets, name):\n",
    "    \"\"\"Compute accuracy and AUC for a binary classifier model\"\"\"\n",
    "    y_pred = model.predict(df_test, targets)\n",
    "    accuracy = accuracy_score(df_test[targets].fillna(0), y_pred)\n",
    "    print(f\"{name} accuracy for {targets}: {accuracy:.4f} vs. 0.50 baseline\")\n",
    "    y_pred_proba = model.predict_proba(df_test, targets)\n",
    "    auc = roc_auc_score(df_test[targets].fillna(0), y_pred_proba)\n",
    "    print(f\"{name} AUC for {targets}: {auc:.4f} vs. 0.50 baseline\")\n",
    "\n",
    "\n",
    "def compute_regression_metrics(model, name):\n",
    "    \"\"\"Compute RMSE for a regression model\"\"\"\n",
    "    y_pred_delay_duration = model.predict(df_test.loc[(df_test[c.DELAYED_COL] == 1.0).values],\n",
    "                                          target_col=c.DELAY_DURATION_COL)\n",
    "    model_rmse = np.sqrt(\n",
    "        np.mean((df_test.loc[df_test[c.DELAYED_COL] == 1.0][c.DELAY_DURATION_COL] - y_pred_delay_duration) ** 2))\n",
    "    baseline_rmse = np.sqrt(np.mean(df_test.loc[df_test[c.DELAYED_COL] == 1.0][c.DELAY_DURATION_COL] ** 2))\n",
    "    print(f\"{name} RMSE for {c.DELAY_DURATION_COL}: {model_rmse:.4f} vs. {baseline_rmse:.4f} baseline\")"
   ],
   "id": "b720938afa6e9af4",
   "outputs": [],
   "execution_count": null
  },
  {
   "metadata": {},
   "cell_type": "markdown",
   "source": "## ElasticNet and Naive Bayes",
   "id": "a79281a28255982"
  },
  {
   "metadata": {},
   "cell_type": "code",
   "source": [
    "bayes_elastic_model = FlightPerformanceModel(\n",
    "    targets={\n",
    "        c.CANCELLED_COL: {\n",
    "            \"type\": \"classification\",\n",
    "            \"estimator\": GaussianNB,\n",
    "            \"params\": {}\n",
    "        },\n",
    "        c.DELAYED_COL: {\n",
    "            \"type\": \"classification\",\n",
    "            \"estimator\": GaussianNB,\n",
    "            \"params\": {}\n",
    "        },\n",
    "        c.DELAY_DURATION_COL: {\n",
    "            \"type\": \"regression\",\n",
    "            \"estimator\": ElasticNet,\n",
    "            \"params\": {}\n",
    "        },\n",
    "    },\n",
    ")\n",
    "bayes_elastic_model.fit(df_train.sample(frac=0.5, random_state=42))"
   ],
   "id": "7f5a4dff072143fa",
   "outputs": [],
   "execution_count": null
  },
  {
   "metadata": {},
   "cell_type": "code",
   "source": [
    "for target_col in [c.CANCELLED_COL, c.DELAYED_COL]:\n",
    "    compute_classifier_metrics(bayes_elastic_model, target_col, \"Naive Bayes\")\n",
    "compute_regression_metrics(bayes_elastic_model, \"ElasticNet\")"
   ],
   "id": "3bd069f155ebaf7",
   "outputs": [],
   "execution_count": null
  },
  {
   "metadata": {},
   "cell_type": "markdown",
   "source": "## Random Forest",
   "id": "bfa17168dc7e1a89"
  },
  {
   "metadata": {},
   "cell_type": "code",
   "source": [
    "# Uses 100 trees\n",
    "rf_model = FlightPerformanceModel(\n",
    "    targets={\n",
    "        c.CANCELLED_COL: {\n",
    "            \"type\": \"classification\",\n",
    "            \"estimator\": RandomForestClassifier,\n",
    "            \"params\": {\"n_jobs\": -1, \"random_state\": 42}\n",
    "        },\n",
    "        c.DELAYED_COL: {\n",
    "            \"type\": \"classification\",\n",
    "            \"estimator\": RandomForestClassifier,\n",
    "            \"params\": {\"n_jobs\": -1, \"random_state\": 42}\n",
    "        },\n",
    "        c.DELAY_DURATION_COL: {\n",
    "            \"type\": \"regression\",\n",
    "            \"estimator\": RandomForestRegressor,\n",
    "            \"params\": {\"n_jobs\": -1, \"random_state\": 42}\n",
    "        },\n",
    "    },\n",
    ")\n",
    "rf_model.fit(df_train.sample(frac=0.5, random_state=42))"
   ],
   "id": "f64732b789087222",
   "outputs": [],
   "execution_count": null
  },
  {
   "metadata": {},
   "cell_type": "code",
   "source": [
    "for target_col in [c.CANCELLED_COL, c.DELAYED_COL]:\n",
    "    compute_classifier_metrics(rf_model, target_col, \"Random Forest\")\n",
    "compute_regression_metrics(rf_model, \"Random Forest\")"
   ],
   "id": "b54e0ebd323163e8",
   "outputs": [],
   "execution_count": null
  },
  {
   "metadata": {},
   "cell_type": "markdown",
   "source": "## Bagging",
   "id": "655950c6eaac0fbc"
  },
  {
   "metadata": {},
   "cell_type": "code",
   "source": [
    "# Uses 10 trees\n",
    "bagging_model = FlightPerformanceModel(\n",
    "    targets={\n",
    "        c.CANCELLED_COL: {\n",
    "            \"type\": \"classification\",\n",
    "            \"estimator\": BaggingClassifier,\n",
    "            \"params\": {\"n_jobs\": -1, \"random_state\": 42}\n",
    "        },\n",
    "        c.DELAYED_COL: {\n",
    "            \"type\": \"classification\",\n",
    "            \"estimator\": BaggingClassifier,\n",
    "            \"params\": {\"n_jobs\": -1, \"random_state\": 42}\n",
    "        },\n",
    "        c.DELAY_DURATION_COL: {\n",
    "            \"type\": \"regression\",\n",
    "            \"estimator\": BaggingRegressor,\n",
    "            \"params\": {\"n_jobs\": -1, \"random_state\": 42}\n",
    "        },\n",
    "    },\n",
    ")\n",
    "bagging_model.fit(df_train.sample(frac=0.5, random_state=42))"
   ],
   "id": "38547d4b58036f95",
   "outputs": [],
   "execution_count": null
  },
  {
   "metadata": {},
   "cell_type": "code",
   "source": [
    "for target_col in [c.CANCELLED_COL, c.DELAYED_COL]:\n",
    "    compute_classifier_metrics(bagging_model, target_col, \"Bagging\")\n",
    "compute_regression_metrics(bagging_model, \"Bagging\")"
   ],
   "id": "35fc746d726ae784",
   "outputs": [],
   "execution_count": null
  },
  {
   "metadata": {},
   "cell_type": "markdown",
   "source": "## Histogram Based Gradient Boosting",
   "id": "83b0932fb946343d"
  },
  {
   "metadata": {},
   "cell_type": "code",
   "source": [
    "boost_model = FlightPerformanceModel(\n",
    "    targets={\n",
    "        c.CANCELLED_COL: {\n",
    "            \"type\": \"classification\",\n",
    "            \"estimator\": HistGradientBoostingClassifier,\n",
    "            \"params\": {\"random_state\": 42}\n",
    "        },\n",
    "        c.DELAYED_COL: {\n",
    "            \"type\": \"classification\",\n",
    "            \"estimator\": HistGradientBoostingClassifier,\n",
    "            \"params\": {\"random_state\": 42}\n",
    "        },\n",
    "        c.DELAY_DURATION_COL: {\n",
    "            \"type\": \"regression\",\n",
    "            \"estimator\": HistGradientBoostingRegressor,\n",
    "            \"params\": {\"random_state\": 42}\n",
    "        },\n",
    "    },\n",
    ")\n",
    "boost_model.fit(df_train.sample(frac=0.5, random_state=42))"
   ],
   "id": "142f2daf31a3bf5f",
   "outputs": [],
   "execution_count": null
  },
  {
   "metadata": {},
   "cell_type": "code",
   "source": [
    "for target_col in [c.CANCELLED_COL, c.DELAYED_COL]:\n",
    "    compute_classifier_metrics(boost_model, target_col, \"Histogram Gradient Boosting\")\n",
    "compute_regression_metrics(boost_model, \"Histogram Gradient Boosting\")"
   ],
   "id": "5ceec66fc2041674",
   "outputs": [],
   "execution_count": null
  },
  {
   "metadata": {},
   "cell_type": "markdown",
   "source": "## XGBoost",
   "id": "f839e26c049a9949"
  },
  {
   "metadata": {},
   "cell_type": "code",
   "source": [
    "# Uses 100 trees\n",
    "xgboost_model = FlightPerformanceModel(\n",
    "    targets={\n",
    "        c.CANCELLED_COL: {\n",
    "            \"type\": \"classification\",\n",
    "            \"estimator\": XGBClassifier,\n",
    "            \"params\": {\"random_state\": 42}\n",
    "        },\n",
    "        c.DELAYED_COL: {\n",
    "            \"type\": \"classification\",\n",
    "            \"estimator\": XGBClassifier,\n",
    "            \"params\": {\"random_state\": 42}\n",
    "        },\n",
    "        c.DELAY_DURATION_COL: {\n",
    "            \"type\": \"regression\",\n",
    "            \"estimator\": XGBRegressor,\n",
    "            \"params\": {\"random_state\": 42}\n",
    "        },\n",
    "    },\n",
    ")\n",
    "xgboost_model.fit(df_train.sample(frac=0.5, random_state=42))"
   ],
   "id": "90b6b167b12e3957",
   "outputs": [],
   "execution_count": null
  },
  {
   "metadata": {},
   "cell_type": "code",
   "source": [
    "for target_col in [c.CANCELLED_COL, c.DELAYED_COL]:\n",
    "    compute_classifier_metrics(xgboost_model, target_col, \"XGBoost\")\n",
    "compute_regression_metrics(xgboost_model, \"XGBoost\")"
   ],
   "id": "225193e018941e79",
   "outputs": [],
   "execution_count": null
  },
  {
   "metadata": {},
   "cell_type": "markdown",
   "source": "## XGBoost with 1000 trees on full training set",
   "id": "99dcd69ec4aae14"
  },
  {
   "metadata": {},
   "cell_type": "code",
   "source": [
    "# Uses 1000 trees\n",
    "full_xgboost_model = FlightPerformanceModel(\n",
    "    targets={\n",
    "        c.CANCELLED_COL: {\n",
    "            \"type\": \"classification\",\n",
    "            \"estimator\": XGBClassifier,\n",
    "            \"params\": {\"n_estimators\": 1000, \"random_state\": 42}\n",
    "        },\n",
    "        c.DELAYED_COL: {\n",
    "            \"type\": \"classification\",\n",
    "            \"estimator\": XGBClassifier,\n",
    "            \"params\": {\"n_estimators\": 1000, \"random_state\": 42}\n",
    "        },\n",
    "        c.DELAY_DURATION_COL: {\n",
    "            \"type\": \"regression\",\n",
    "            \"estimator\": XGBRegressor,\n",
    "            \"params\": {\"n_estimators\": 1000, \"random_state\": 42}\n",
    "        },\n",
    "    },\n",
    ")\n",
    "full_xgboost_model.fit(df_train)"
   ],
   "id": "775556c25c02405a",
   "outputs": [],
   "execution_count": null
  },
  {
   "metadata": {},
   "cell_type": "code",
   "source": [
    "for target_col in [c.CANCELLED_COL, c.DELAYED_COL]:\n",
    "    compute_classifier_metrics(full_xgboost_model, target_col, \"Full XGBoost\")\n",
    "compute_regression_metrics(full_xgboost_model, \"Full XGBoost\")"
   ],
   "id": "e7789690781013c8",
   "outputs": [],
   "execution_count": null
  },
  {
   "metadata": {},
   "cell_type": "markdown",
   "source": "## CatBoost",
   "id": "52383eb2fcb9dff5"
  },
  {
   "metadata": {},
   "cell_type": "code",
   "source": [
    "catboost_model = FlightPerformanceModel(\n",
    "    targets={\n",
    "        c.CANCELLED_COL: {\n",
    "            \"type\": \"classification\",\n",
    "            \"estimator\": CatBoostClassifier,\n",
    "            \"params\": {\"random_state\": 42, \"verbose\": False}\n",
    "        },\n",
    "        c.DELAYED_COL: {\n",
    "            \"type\": \"classification\",\n",
    "            \"estimator\": CatBoostClassifier,\n",
    "            \"params\": {\"random_state\": 42, \"verbose\": False}\n",
    "        },\n",
    "        c.DELAY_DURATION_COL: {\n",
    "            \"type\": \"regression\",\n",
    "            \"estimator\": CatBoostRegressor,\n",
    "            \"params\": {\"random_state\": 42, \"verbose\": False}\n",
    "        },\n",
    "    },\n",
    ")\n",
    "catboost_model.fit(df_train.sample(frac=0.5, random_state=42))"
   ],
   "id": "17df0fa2d5ee7ce0",
   "outputs": [],
   "execution_count": null
  },
  {
   "metadata": {},
   "cell_type": "code",
   "source": [
    "for target_col in [c.CANCELLED_COL, c.DELAYED_COL]:\n",
    "    compute_classifier_metrics(catboost_model, target_col, \"CatBoost\")\n",
    "compute_regression_metrics(catboost_model, \"CatBoost\")"
   ],
   "id": "e6a53cc292ebce68",
   "outputs": [],
   "execution_count": null
  },
  {
   "metadata": {},
   "cell_type": "markdown",
   "source": "## CatBoost on full training set",
   "id": "905ba1acfa1af004"
  },
  {
   "metadata": {},
   "cell_type": "code",
   "source": [
    "full_catboost_model = FlightPerformanceModel(\n",
    "    targets={\n",
    "        c.CANCELLED_COL: {\n",
    "            \"type\": \"classification\",\n",
    "            \"estimator\": CatBoostClassifier,\n",
    "            \"params\": {\"random_state\": 42, \"verbose\": False}\n",
    "        },\n",
    "        c.DELAYED_COL: {\n",
    "            \"type\": \"classification\",\n",
    "            \"estimator\": CatBoostClassifier,\n",
    "            \"params\": {\"random_state\": 42, \"verbose\": False}\n",
    "        },\n",
    "        c.DELAY_DURATION_COL: {\n",
    "            \"type\": \"regression\",\n",
    "            \"estimator\": CatBoostRegressor,\n",
    "            \"params\": {\"random_state\": 42, \"verbose\": False}\n",
    "        },\n",
    "    },\n",
    ")\n",
    "full_catboost_model.fit(df_train)"
   ],
   "id": "eda7203ff7bc558b",
   "outputs": [],
   "execution_count": null
  },
  {
   "metadata": {},
   "cell_type": "code",
   "source": [
    "for target_col in [c.CANCELLED_COL, c.DELAYED_COL]:\n",
    "    compute_classifier_metrics(full_catboost_model, target_col, \"Full CatBoost\")\n",
    "compute_regression_metrics(full_catboost_model, \"Full CatBoost\")"
   ],
   "id": "1ce88af89a070ed2",
   "outputs": [],
   "execution_count": null
  }
 ],
 "metadata": {
  "kernelspec": {
   "display_name": "Python 3",
   "language": "python",
   "name": "python3"
  },
  "language_info": {
   "codemirror_mode": {
    "name": "ipython",
    "version": 2
   },
   "file_extension": ".py",
   "mimetype": "text/x-python",
   "name": "python",
   "nbconvert_exporter": "python",
   "pygments_lexer": "ipython2",
   "version": "2.7.6"
  }
 },
 "nbformat": 4,
 "nbformat_minor": 5
}
